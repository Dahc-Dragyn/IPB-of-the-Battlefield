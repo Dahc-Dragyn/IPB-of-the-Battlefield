{
 "cells": [
  {
   "cell_type": "code",
   "execution_count": null,
   "metadata": {},
   "outputs": [],
   "source": [
    "# Core Libraries\n",
    "tensorflow>=2.0  # Or torch, depending on your models\n",
    "scikit-learn\n",
    "scikit-image\n",
    "rasterio\n",
    "numpy\n",
    "pandas\n",
    "\n",
    "# NLP (if using ChatGPT API)\n",
    "openai\n",
    "python-dotenv \n",
    "\n",
    "# Vector Store (example using Pinecone)\n",
    "pinecone-client\n",
    "\n",
    "# Knowledge Graph (example using NetworkX)\n",
    "networkx\n",
    "\n",
    "# Visualization (examples)\n",
    "mapboxgl\n",
    "cesium \n",
    "\n",
    "# Web Framework\n",
    "flask\n",
    "\n",
    "# Other Utilities\n",
    "joblib  # For saving/loading models"
   ]
  }
 ],
 "metadata": {
  "language_info": {
   "name": "python"
  }
 },
 "nbformat": 4,
 "nbformat_minor": 2
}
